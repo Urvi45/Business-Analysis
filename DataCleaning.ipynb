{
 "cells": [
  {
   "cell_type": "code",
   "execution_count": null,
   "metadata": {},
   "outputs": [],
   "source": [
    "# !pip install mysql-connector-python"
   ]
  },
  {
   "cell_type": "code",
   "execution_count": 2,
   "metadata": {},
   "outputs": [],
   "source": [
    "import numpy as np\n",
    "import pandas as pd\n",
    "import mysql.connector\n",
    "import csv"
   ]
  },
  {
   "cell_type": "code",
   "execution_count": null,
   "metadata": {},
   "outputs": [],
   "source": [
    "# brands csv\n",
    "\n",
    "brands = pd.read_csv(\"Brands.csv\")\n",
    "print(\"Info------------\\n\")\n",
    "print(brands.info())\n",
    "print(\"\\nFor null--------\\n\")\n",
    "print(brands.isnull().sum())\n",
    "print(\"\\nTotal Brands: \",brands['BrandID'].count())"
   ]
  },
  {
   "cell_type": "code",
   "execution_count": null,
   "metadata": {},
   "outputs": [],
   "source": [
    "# categoies csv\n",
    "\n",
    "categoies = pd.read_csv(\"Categories.csv\")\n",
    "print(\"Info------------\\n\")\n",
    "print(categoies.info())\n",
    "print(\"\\nFor null--------\\n\")\n",
    "print(categoies.isnull().sum())\n",
    "print(\"\\nTotal Categoies: \",categoies['CategoryID'].count())"
   ]
  },
  {
   "cell_type": "code",
   "execution_count": null,
   "metadata": {},
   "outputs": [],
   "source": [
    "# customers csv\n",
    "\n",
    "customers = pd.read_csv(\"Customers.csv\")\n",
    "print(\"Info------------\\n\")\n",
    "print(customers.info())\n",
    "print(\"\\nFor null--------\\n\")\n",
    "print(customers.isnull().sum())\n",
    "print(\"\\nTotal Customers: \",customers['CustomerID'].count())"
   ]
  },
  {
   "cell_type": "code",
   "execution_count": null,
   "metadata": {},
   "outputs": [],
   "source": [
    "# order items csv\n",
    "\n",
    "order_items = pd.read_csv(\"OrderItems.csv\")\n",
    "print(\"Info------------\\n\")\n",
    "print(order_items.info())\n",
    "print(\"\\nFor null--------\\n\")\n",
    "print(order_items.isnull().sum())\n",
    "print(\"\\nTotal Order Items: \",order_items['ItemID'].count())"
   ]
  },
  {
   "cell_type": "code",
   "execution_count": null,
   "metadata": {},
   "outputs": [],
   "source": [
    "# order csv\n",
    "\n",
    "order = pd.read_csv(\"Orders.csv\")\n",
    "print(\"Info------------\\n\")\n",
    "print(order.info())\n",
    "print(\"\\nFor null--------\\n\")\n",
    "print(order.isnull().sum())\n",
    "print(\"\\nTotal order: \",order['OrderID'].count())"
   ]
  },
  {
   "cell_type": "code",
   "execution_count": null,
   "metadata": {},
   "outputs": [],
   "source": [
    "# products csv\n",
    "\n",
    "products = pd.read_csv(\"Products.csv\")\n",
    "print(\"Info------------\\n\")\n",
    "print(products.info())\n",
    "print(\"\\nFor null--------\\n\")\n",
    "print(products.isnull().sum())\n",
    "print(\"\\nTotal products: \",products['ProductID'].count())"
   ]
  },
  {
   "cell_type": "code",
   "execution_count": null,
   "metadata": {},
   "outputs": [],
   "source": [
    "# staffs csv\n",
    "\n",
    "staffs = pd.read_csv(\"Staffs.csv\")\n",
    "print(\"Info------------\\n\")\n",
    "print(staffs.info())\n",
    "print(\"\\nFor null--------\\n\")\n",
    "print(staffs.isnull().sum())\n",
    "print(\"\\nTotal staffs: \",staffs['StaffID'].count())"
   ]
  },
  {
   "cell_type": "code",
   "execution_count": null,
   "metadata": {},
   "outputs": [],
   "source": [
    "# stocks csv\n",
    "\n",
    "stocks = pd.read_csv(\"Stocks.csv\")\n",
    "print(\"Info------------\\n\")\n",
    "print(stocks.info())\n",
    "print(\"\\nFor null--------\\n\")\n",
    "print(stocks.isnull().sum())\n",
    "print(\"\\nTotal stocks: \",stocks['Quantity'].sum())"
   ]
  },
  {
   "cell_type": "code",
   "execution_count": null,
   "metadata": {},
   "outputs": [],
   "source": [
    "# stores csv\n",
    "\n",
    "stores = pd.read_csv(\"Stores.csv\")\n",
    "print(\"Info------------\\n\")\n",
    "print(stores.info())\n",
    "print(\"\\nFor null--------\\n\")\n",
    "print(stores.isnull().sum())\n",
    "print(\"\\nTotal stores: \",stores['StoreID'].count())"
   ]
  },
  {
   "cell_type": "code",
   "execution_count": 3,
   "metadata": {},
   "outputs": [
    {
     "name": "stdout",
     "output_type": "stream",
     "text": [
      "Successfully connected to MySQL database!\n",
      "Data from 'Brands.csv' loaded successfully into 'Brands'.\n",
      "Data from 'Categories.csv' loaded successfully into 'Categories'.\n",
      "Data from 'Customers.csv' loaded successfully into 'Customers'.\n",
      "Data from 'OrderItems.csv' loaded successfully into 'OrderItems'.\n",
      "Data from 'Orders.csv' loaded successfully into 'Orders'.\n",
      "Data from 'Products.csv' loaded successfully into 'Products'.\n",
      "Data from 'Staffs.csv' loaded successfully into 'Staffs'.\n",
      "Data from 'Stocks.csv' loaded successfully into 'Stocks'.\n",
      "Data from 'Stores.csv' loaded successfully into 'Stores'.\n",
      "MySQL connection closed.\n"
     ]
    }
   ],
   "source": [
    "# Database connection configuration\n",
    "db_config = {\n",
    "    'host': '127.0.0.1',\n",
    "    'user': 'root',\n",
    "    'password': 'urvi_p_4523',\n",
    "    'database': 'Business_Analysis'\n",
    "}\n",
    "\n",
    "# List of CSV file paths and corresponding table names\n",
    "csv_files = ['Brands.csv','Categories.csv','Customers.csv','OrderItems.csv','Orders.csv','Products.csv','Staffs.csv','Stocks.csv','Stores.csv']\n",
    "table_names = ['Brands','Categories','Customers','OrderItems','Orders','Products','Staffs','Stocks','Stores'] \n",
    "\n",
    "try:\n",
    "    mydb = mysql.connector.connect(**db_config)\n",
    "    mycursor = mydb.cursor()\n",
    "    print(\"Successfully connected to MySQL database!\")\n",
    "\n",
    "    for i in range(len(csv_files)):\n",
    "        csv_file_path = csv_files[i]\n",
    "        table_name = table_names[i]\n",
    "\n",
    "        try:\n",
    "            with open(csv_file_path, 'r') as file:\n",
    "                csv_reader = csv.reader(file)\n",
    "                header = next(csv_reader) # Skip the header row\n",
    "\n",
    "                placeholders = ', '.join(['%s'] * len(header))\n",
    "                sql = f\"INSERT INTO {table_name} ({', '.join(header)}) VALUES ({placeholders})\"\n",
    "\n",
    "                for row in csv_reader:\n",
    "                    mycursor.execute(sql, row)\n",
    "\n",
    "            mydb.commit()\n",
    "            print(f\"Data from '{csv_file_path}' loaded successfully into '{table_name}'.\")\n",
    "\n",
    "        except FileNotFoundError:\n",
    "            print(f\"Error: CSV file '{csv_file_path}' not found.\")\n",
    "        except mysql.connector.Error as err:\n",
    "            print(f\"Error loading data into '{table_name}' from '{csv_file_path}': {err}\")\n",
    "            mydb.rollback()\n",
    "        except Exception as e:\n",
    "            print(f\"An unexpected error occurred while processing '{csv_file_path}': {e}\")\n",
    "            mydb.rollback()\n",
    "\n",
    "except mysql.connector.Error as err:\n",
    "    print(f\"Error connecting to MySQL: {err}\")\n",
    "except Exception as e:\n",
    "    print(f\"An unexpected error occurred: {e}\")\n",
    "finally:\n",
    "    if 'mydb' in locals() and mydb.is_connected():\n",
    "        mycursor.close()\n",
    "        mydb.close()\n",
    "        print(\"MySQL connection closed.\")"
   ]
  }
 ],
 "metadata": {
  "kernelspec": {
   "display_name": "Python 3",
   "language": "python",
   "name": "python3"
  },
  "language_info": {
   "codemirror_mode": {
    "name": "ipython",
    "version": 3
   },
   "file_extension": ".py",
   "mimetype": "text/x-python",
   "name": "python",
   "nbconvert_exporter": "python",
   "pygments_lexer": "ipython3",
   "version": "3.13.2"
  }
 },
 "nbformat": 4,
 "nbformat_minor": 2
}
